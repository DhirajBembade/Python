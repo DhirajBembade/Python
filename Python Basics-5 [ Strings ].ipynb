{
  "nbformat": 4,
  "nbformat_minor": 0,
  "metadata": {
    "colab": {
      "provenance": [],
      "collapsed_sections": [
        "N65t2ZsgVYiI",
        "HMu0X3gBV7Kk",
        "qIiH0bSTW9XX",
        "xZo0WWcKZdXS",
        "akf_gTC3aGSB",
        "LovtgoXbaqVg",
        "LWomjGZUbGXJ",
        "-EseZOFEbsrS",
        "pZl06Qc6cTiH",
        "4XEfkoiWckuB",
        "ddeaIft_dRpE"
      ],
      "include_colab_link": true
    },
    "kernelspec": {
      "name": "python3",
      "display_name": "Python 3"
    },
    "language_info": {
      "name": "python"
    }
  },
  "cells": [
    {
      "cell_type": "markdown",
      "metadata": {
        "id": "view-in-github",
        "colab_type": "text"
      },
      "source": [
        "<a href=\"https://colab.research.google.com/github/DhirajBembade/Python/blob/main/Python%20Basics-5%20%5B%20Strings%20%5D.ipynb\" target=\"_parent\"><img src=\"https://colab.research.google.com/assets/colab-badge.svg\" alt=\"Open In Colab\"/></a>"
      ]
    },
    {
      "cell_type": "markdown",
      "source": [
        "# **# String**\n",
        "\n",
        "---\n",
        "\n",
        "\n",
        "\n",
        "Any sequence of characters within either single quotes or double quotes is considered as a String.\n",
        "\n",
        "* We can define multi-line String literals by using triple single or double quotes.\n",
        "\n",
        "Example- You can use \"\"\"three double quotes\"\"\" or '''single double quotes'''\n",
        "\n",
        " We can also use triple quotes to use single quotes or double quotes as symbol inside\n",
        " String literal"
      ],
      "metadata": {
        "id": "YHNrHreRRvJz"
      }
    },
    {
      "cell_type": "code",
      "source": [
        "# Using three single quotes:\n",
        "a = '''My relationship with sucess \n",
        "has been driven largely\n",
        "my relationship with multiple failures.'''\n",
        "print(a)   #Note- print() must be in smae as line as a or the result, the line breaks are inserted at the same position as in the code.\n"
      ],
      "metadata": {
        "colab": {
          "base_uri": "https://localhost:8080/"
        },
        "id": "dihme0Hq462_",
        "outputId": "b803a0e3-abb8-4981-e2c9-158b4a4c9d74"
      },
      "execution_count": 22,
      "outputs": [
        {
          "output_type": "stream",
          "name": "stdout",
          "text": [
            "My relationship with sucess \n",
            "has been driven largely \n",
            "my relationship with multiple failures.\n"
          ]
        }
      ]
    },
    {
      "cell_type": "code",
      "source": [
        "# You can use three double quotes:\n",
        "\n",
        "a = \"\"\"My relationship with sucess \n",
        "has been driven largely\n",
        "my relationship with multiple failures.\"\"\"\n",
        "print(a)\n"
      ],
      "metadata": {
        "colab": {
          "base_uri": "https://localhost:8080/"
        },
        "id": "3Wv-hhX45gkx",
        "outputId": "15e99fe6-6689-4cee-d100-853575262b5f"
      },
      "execution_count": 23,
      "outputs": [
        {
          "output_type": "stream",
          "name": "stdout",
          "text": [
            "My relationship with sucess \n",
            "has been driven largely\n",
            "my relationship with multiple failures.\n"
          ]
        }
      ]
    },
    {
      "cell_type": "code",
      "source": [
        "s= 'data science'\n",
        "s = \"data\"\n",
        "a = ''' This is a \"data science\" course'''"
      ],
      "metadata": {
        "id": "C4NK9IPySCFA"
      },
      "execution_count": null,
      "outputs": []
    },
    {
      "cell_type": "markdown",
      "source": [
        "# How to access characters of a string?\n",
        "\n",
        " We can access characters of a string by using the following ways.\n",
        "1. By using index\n",
        "\n",
        "\n",
        "2. By using slice operator\n"
      ],
      "metadata": {
        "id": "IYrhoJFFSUvk"
      }
    },
    {
      "cell_type": "code",
      "source": [
        "s= 'data science'"
      ],
      "metadata": {
        "id": "qTZ9lL9UEy-H"
      },
      "execution_count": 25,
      "outputs": []
    },
    {
      "cell_type": "code",
      "source": [
        "# 1. accessing characters by using index\n",
        "s[0]"
      ],
      "metadata": {
        "colab": {
          "base_uri": "https://localhost:8080/",
          "height": 35
        },
        "id": "Uk8SJjZ9SO1F",
        "outputId": "9902d75e-1362-495a-f29f-8a207d290e9f"
      },
      "execution_count": null,
      "outputs": [
        {
          "output_type": "execute_result",
          "data": {
            "text/plain": [
              "'d'"
            ],
            "application/vnd.google.colaboratory.intrinsic+json": {
              "type": "string"
            }
          },
          "metadata": {},
          "execution_count": 2
        }
      ]
    },
    {
      "cell_type": "code",
      "source": [
        "a[-1]"
      ],
      "metadata": {
        "colab": {
          "base_uri": "https://localhost:8080/",
          "height": 35
        },
        "id": "sjraq1ywSq36",
        "outputId": "7f3c01eb-1183-4e04-8909-a338dc2ba7d7"
      },
      "execution_count": null,
      "outputs": [
        {
          "output_type": "execute_result",
          "data": {
            "text/plain": [
              "'e'"
            ],
            "application/vnd.google.colaboratory.intrinsic+json": {
              "type": "string"
            }
          },
          "metadata": {},
          "execution_count": 3
        }
      ]
    },
    {
      "cell_type": "code",
      "source": [
        "# 2. Accessing characters by using slice operator\n",
        "#  Syntax: s[begin index : end index : step]\n",
        "s=\"Learning Python is very very easy!!!\"\n",
        "s[1:7:1]"
      ],
      "metadata": {
        "colab": {
          "base_uri": "https://localhost:8080/",
          "height": 35
        },
        "id": "7qY4y_HqSs3Y",
        "outputId": "fccd44ad-d123-488f-a3b9-d1b097389139"
      },
      "execution_count": null,
      "outputs": [
        {
          "output_type": "execute_result",
          "data": {
            "text/plain": [
              "'earnin'"
            ],
            "application/vnd.google.colaboratory.intrinsic+json": {
              "type": "string"
            }
          },
          "metadata": {},
          "execution_count": 4
        }
      ]
    },
    {
      "cell_type": "code",
      "source": [
        "s[::]  # :: use for all element"
      ],
      "metadata": {
        "colab": {
          "base_uri": "https://localhost:8080/",
          "height": 35
        },
        "id": "G5gjTssPTUMU",
        "outputId": "32962999-dfd4-49ea-f7b1-939a01073adf"
      },
      "execution_count": null,
      "outputs": [
        {
          "output_type": "execute_result",
          "data": {
            "text/plain": [
              "'Learning Python is very very easy!!!'"
            ],
            "application/vnd.google.colaboratory.intrinsic+json": {
              "type": "string"
            }
          },
          "metadata": {},
          "execution_count": 5
        }
      ]
    },
    {
      "cell_type": "code",
      "source": [
        "s[::-1]   #::-1 reverse 0th--upto--last index"
      ],
      "metadata": {
        "colab": {
          "base_uri": "https://localhost:8080/",
          "height": 35
        },
        "id": "Tjv2iCO8TXcy",
        "outputId": "6c3ba3cb-f72f-416c-a6c7-38ec27e660e0"
      },
      "execution_count": null,
      "outputs": [
        {
          "output_type": "execute_result",
          "data": {
            "text/plain": [
              "'!!!ysae yrev yrev si nohtyP gninraeL'"
            ],
            "application/vnd.google.colaboratory.intrinsic+json": {
              "type": "string"
            }
          },
          "metadata": {},
          "execution_count": 6
        }
      ]
    },
    {
      "cell_type": "code",
      "source": [
        "# Note: Slice operator never raises IndexError\n",
        "s[1000:2:-1]"
      ],
      "metadata": {
        "colab": {
          "base_uri": "https://localhost:8080/",
          "height": 35
        },
        "id": "2LFvaKiWTax-",
        "outputId": "761c4587-1457-40a0-ea9f-9c06e9c1c2a7"
      },
      "execution_count": null,
      "outputs": [
        {
          "output_type": "execute_result",
          "data": {
            "text/plain": [
              "'!!!ysae yrev yrev si nohtyP gninr'"
            ],
            "application/vnd.google.colaboratory.intrinsic+json": {
              "type": "string"
            }
          },
          "metadata": {},
          "execution_count": 7
        }
      ]
    },
    {
      "cell_type": "markdown",
      "source": [
        "\n",
        "\n",
        "---\n",
        "\n"
      ],
      "metadata": {
        "id": "NQ71HIYL7PSN"
      }
    },
    {
      "cell_type": "markdown",
      "source": [
        "**Slicing**\n",
        "\n",
        "You can return a range of characters by using the slice syntax.\n",
        "\n",
        "Specify the start index and the end index, separated by a colon, to return a part of the string.\n",
        "\n"
      ],
      "metadata": {
        "id": "7LmR0iCO7IH4"
      }
    },
    {
      "cell_type": "code",
      "source": [
        "#Get the characters from position 2 to position 5 (not included):\n",
        "\n",
        "b = \"Hello, World!\"\n",
        "print(b[2:5])          #The first character has index 0."
      ],
      "metadata": {
        "id": "czinWPl57NQa",
        "outputId": "5475a963-487c-4bab-e439-385755c1a7ab",
        "colab": {
          "base_uri": "https://localhost:8080/"
        }
      },
      "execution_count": 5,
      "outputs": [
        {
          "output_type": "stream",
          "name": "stdout",
          "text": [
            "llo\n"
          ]
        }
      ]
    },
    {
      "cell_type": "markdown",
      "source": [
        "* Slice From the Start--\n",
        "\n",
        "By leaving out the start index, the range will start at the first character:\n",
        "\n",
        "Example\n",
        "Get the characters from the start to position 5 (not included):\n"
      ],
      "metadata": {
        "id": "7mAFsmvR7jg_"
      }
    },
    {
      "cell_type": "code",
      "source": [
        "b = \"Hello, World!\"\n",
        "print(b[:5])"
      ],
      "metadata": {
        "colab": {
          "base_uri": "https://localhost:8080/"
        },
        "id": "eEqObsU27qcp",
        "outputId": "fdd808a6-c4d0-481c-b052-e7fe5b0970c2"
      },
      "execution_count": 6,
      "outputs": [
        {
          "output_type": "stream",
          "name": "stdout",
          "text": [
            "Hello\n"
          ]
        }
      ]
    },
    {
      "cell_type": "markdown",
      "source": [
        "* Slice To the End-\n",
        "\n",
        "By leaving out the end index, the range will go to the end:\n",
        "\n",
        "Example\n",
        "Get the characters from position 2, and all the way to the end:"
      ],
      "metadata": {
        "id": "33A9XzLb7xiK"
      }
    },
    {
      "cell_type": "code",
      "source": [
        "x= \"Hello, World!\"\n",
        "print(x[2:])"
      ],
      "metadata": {
        "colab": {
          "base_uri": "https://localhost:8080/"
        },
        "id": "hneeHkR18RC1",
        "outputId": "d7bb9243-57ba-4848-94c1-83d9ce14512a"
      },
      "execution_count": 12,
      "outputs": [
        {
          "output_type": "stream",
          "name": "stdout",
          "text": [
            "llo, World!\n"
          ]
        }
      ]
    },
    {
      "cell_type": "code",
      "source": [
        "b = \"Hello, Good morning!\"\n",
        "print(b[2:])\n"
      ],
      "metadata": {
        "colab": {
          "base_uri": "https://localhost:8080/"
        },
        "id": "3yJwdPuL78Cg",
        "outputId": "80802ba6-a418-4d8d-c4d4-65ad08f108a2"
      },
      "execution_count": 8,
      "outputs": [
        {
          "output_type": "stream",
          "name": "stdout",
          "text": [
            "llo, Good morning!\n"
          ]
        }
      ]
    },
    {
      "cell_type": "markdown",
      "source": [
        "* Negative Indexing--\n",
        "\n",
        "Use negative indexes to start the slice from the end of the string:\n",
        "\n",
        "Example\n",
        "\n",
        "Get the characters:\n",
        "\n",
        "From: \"o\" in \"World!\" (position -5)\n",
        "\n",
        "To, but not included: \"d\" in \"World!\" (position -2):"
      ],
      "metadata": {
        "id": "WBG8GlTa83NU"
      }
    },
    {
      "cell_type": "code",
      "source": [
        "b = \"Hello, World!\"\n",
        "print(b[-5:-2])"
      ],
      "metadata": {
        "colab": {
          "base_uri": "https://localhost:8080/"
        },
        "id": "9C9G6n959B4q",
        "outputId": "fcc72291-0f25-4083-fec3-80aef4fcde54"
      },
      "execution_count": 13,
      "outputs": [
        {
          "output_type": "stream",
          "name": "stdout",
          "text": [
            "orl\n"
          ]
        }
      ]
    },
    {
      "cell_type": "markdown",
      "source": [
        "* Remove Whitespace--\n",
        "\n",
        "Whitespace is the space before and/or after the actual text, and very often you want to remove this space.\n",
        "\n",
        "Example\n",
        "\n",
        "The strip() method removes any whitespace from the beginning or the end:\n"
      ],
      "metadata": {
        "id": "PLW94pt09rLI"
      }
    },
    {
      "cell_type": "code",
      "source": [
        "a = \" Hello, World! \"\n",
        "print(a.strip()) # returns \"Hello, World!\""
      ],
      "metadata": {
        "colab": {
          "base_uri": "https://localhost:8080/"
        },
        "id": "9EEWbrtc9063",
        "outputId": "86abc1c2-18de-48c4-a347-531676461c48"
      },
      "execution_count": 14,
      "outputs": [
        {
          "output_type": "stream",
          "name": "stdout",
          "text": [
            "Hello, World!\n"
          ]
        }
      ]
    },
    {
      "cell_type": "markdown",
      "source": [
        "\n",
        "\n",
        "---\n",
        "\n"
      ],
      "metadata": {
        "id": "t_UziIK293qp"
      }
    },
    {
      "cell_type": "markdown",
      "source": [
        "**# len() in-built function**"
      ],
      "metadata": {
        "id": "G8cywW92T6Ll"
      }
    },
    {
      "cell_type": "code",
      "source": [
        "len(s)"
      ],
      "metadata": {
        "colab": {
          "base_uri": "https://localhost:8080/"
        },
        "id": "zc_x2wB4TwYC",
        "outputId": "5d986641-d236-4a04-d650-421658145011"
      },
      "execution_count": null,
      "outputs": [
        {
          "output_type": "execute_result",
          "data": {
            "text/plain": [
              "36"
            ]
          },
          "metadata": {},
          "execution_count": 8
        }
      ]
    },
    {
      "cell_type": "code",
      "source": [
        "x= \"I Like Python\"\n",
        "len(x)     # space also counted & start count from 0"
      ],
      "metadata": {
        "colab": {
          "base_uri": "https://localhost:8080/"
        },
        "id": "WvrlAN4m-LzF",
        "outputId": "ff2f135c-5281-47ac-dd76-12a7b26ad720"
      },
      "execution_count": 17,
      "outputs": [
        {
          "output_type": "execute_result",
          "data": {
            "text/plain": [
              "13"
            ]
          },
          "metadata": {},
          "execution_count": 17
        }
      ]
    },
    {
      "cell_type": "markdown",
      "source": [
        "##### Q)Write a Program to access each Character of String in Forward and Backward Direction by using while Loop?"
      ],
      "metadata": {
        "id": "Bn3cNmbsUNa0"
      }
    },
    {
      "cell_type": "code",
      "source": [
        "s=\"Learning Python is very easy!!!\"\n",
        "n=len(s)   \n",
        "i=0\n",
        "print(\"Forwarddirection\")\n",
        "while i<n:\n",
        "  print(s[i],end='') # we used ' ' for come into one line\n",
        "  i+=1\n",
        "\n",
        "print(\"Backwarddirection\")\n",
        "i=-1\n",
        "while i >= -n:\n",
        "  print(s[i],end='')\n",
        "  i = i-1"
      ],
      "metadata": {
        "colab": {
          "base_uri": "https://localhost:8080/"
        },
        "id": "TRg_y3OAUA36",
        "outputId": "870dc242-78d3-494f-f401-1677295662a4"
      },
      "execution_count": null,
      "outputs": [
        {
          "output_type": "stream",
          "name": "stdout",
          "text": [
            "Forwarddirection\n",
            "Learning Python is very easy!!!Backwarddirection\n",
            "!!!ysae yrev si nohtyP gninraeL"
          ]
        }
      ]
    },
    {
      "cell_type": "markdown",
      "source": [
        "* Practice-"
      ],
      "metadata": {
        "id": "y2jF5fqL_SZe"
      }
    },
    {
      "cell_type": "code",
      "source": [
        "a = (\"You are what you do, Not what you say you'll do.\")\n",
        "n= len(a)\n",
        "i=0\n",
        "print(\"Forward direction is\")\n",
        "while i<n:\n",
        "  print(a[i], end='')\n",
        "  i+=1\n"
      ],
      "metadata": {
        "colab": {
          "base_uri": "https://localhost:8080/"
        },
        "id": "BB-kY3TU_aLy",
        "outputId": "9a78c029-f551-4980-faca-cff1a18faf2a"
      },
      "execution_count": 19,
      "outputs": [
        {
          "output_type": "stream",
          "name": "stdout",
          "text": [
            "Forward direction is\n",
            "You are what you do, Not what you say you'll do."
          ]
        }
      ]
    },
    {
      "cell_type": "code",
      "source": [
        "a = (\"You are what you do, Not what you say you'll do.\")\n",
        "n= len(a)\n",
        "i=0\n",
        "print(\"Backword direction is\")\n",
        "while i>= -n:\n",
        "  print(a[i], end='')\n",
        "  i=i-1"
      ],
      "metadata": {
        "colab": {
          "base_uri": "https://localhost:8080/"
        },
        "id": "301QUd8yBNEv",
        "outputId": "09ce5355-5381-4e4e-fc6e-e842120737b0"
      },
      "execution_count": 20,
      "outputs": [
        {
          "output_type": "stream",
          "name": "stdout",
          "text": [
            "Backword direction is\n",
            "Y.od ll'uoy yas uoy tahw toN ,od uoy tahw era uoY"
          ]
        }
      ]
    },
    {
      "cell_type": "markdown",
      "source": [
        "# Checking Membership:\n",
        "\n",
        " We can check whether the character or string is the member of another string or not by\n",
        " using in and not in operators."
      ],
      "metadata": {
        "id": "I-3XuAsIU-D_"
      }
    },
    {
      "cell_type": "code",
      "source": [
        "s = \"data\"\n",
        "'d' in s"
      ],
      "metadata": {
        "colab": {
          "base_uri": "https://localhost:8080/"
        },
        "id": "B-lmRuvmUkst",
        "outputId": "66d43d19-9360-4f1b-877e-26b1f21ef8d7"
      },
      "execution_count": null,
      "outputs": [
        {
          "output_type": "execute_result",
          "data": {
            "text/plain": [
              "True"
            ]
          },
          "metadata": {},
          "execution_count": 15
        }
      ]
    },
    {
      "cell_type": "markdown",
      "source": [
        "#  Comparison of Strings\n",
        "\n",
        " We can use comparison operators (<, <=, >, >=) and equality operators (==, !=) for\n",
        " strings."
      ],
      "metadata": {
        "id": "N65t2ZsgVYiI"
      }
    },
    {
      "cell_type": "code",
      "source": [
        "s1=input(\"Enter first string:\")\n",
        "s2=input(\"Enter Second string:\")\n",
        "if s1==s2:\n",
        "  print(\"Both strings are equal\")\n",
        "elif s1<s2:\n",
        "  print(\"First String is less than Second String\")\n",
        "else:\n",
        "  print(\"First String is greater than Second String\")"
      ],
      "metadata": {
        "colab": {
          "base_uri": "https://localhost:8080/"
        },
        "id": "xYvEEW4qVPW7",
        "outputId": "9ebdb606-492a-404d-e5b7-a0d8b12213e8"
      },
      "execution_count": null,
      "outputs": [
        {
          "output_type": "stream",
          "name": "stdout",
          "text": [
            "Enter first string:data\n",
            "Enter Second string:science\n",
            "First String is less than Second String\n"
          ]
        }
      ]
    },
    {
      "cell_type": "markdown",
      "source": [
        "# Removing Spaces from the String:\n",
        "\n",
        "1)rstrip()-->To remove spaces at right hand side.\n",
        "\n",
        "2) lstrip()--> To remove spaces at left hand side.\n",
        "\n",
        "3) strip()-->To remove spaces both sides."
      ],
      "metadata": {
        "id": "HMu0X3gBV7Kk"
      }
    },
    {
      "cell_type": "code",
      "source": [
        "city=input(\"Enter your city Name:\")\n",
        "scity=city.strip()\n",
        "if scity=='Hyderabad':\n",
        "    print(\"Hello Hyderbadi..Adab\")\n",
        "elif scity=='Chennai':\n",
        "    print(\"Hello Madrasi...Vanakkam\")\n",
        "elif scity==\"Bangalore\":\n",
        "    print(\"Hello Kannadiga...Shubhodaya\")\n",
        "else:\n",
        "    print(\"your entered city is invalid\")"
      ],
      "metadata": {
        "colab": {
          "base_uri": "https://localhost:8080/"
        },
        "id": "S74emTlZWITr",
        "outputId": "1f84cba8-4a0d-47cc-deeb-6f5acd634ae1"
      },
      "execution_count": null,
      "outputs": [
        {
          "output_type": "stream",
          "name": "stdout",
          "text": [
            "Enter your city Name:Pune\n",
            "your entered city is invalid\n"
          ]
        }
      ]
    },
    {
      "cell_type": "code",
      "source": [
        "s = \" Data \"\n",
        "s.strip()"
      ],
      "metadata": {
        "colab": {
          "base_uri": "https://localhost:8080/",
          "height": 35
        },
        "id": "vwTT7HrZWiky",
        "outputId": "19d6a863-4427-4e64-afcd-5d9bfe04eb8c"
      },
      "execution_count": null,
      "outputs": [
        {
          "output_type": "execute_result",
          "data": {
            "text/plain": [
              "'Data'"
            ],
            "application/vnd.google.colaboratory.intrinsic+json": {
              "type": "string"
            }
          },
          "metadata": {},
          "execution_count": 20
        }
      ]
    },
    {
      "cell_type": "code",
      "source": [
        "s.rstrip()"
      ],
      "metadata": {
        "colab": {
          "base_uri": "https://localhost:8080/",
          "height": 35
        },
        "id": "HyfxVgujW1VI",
        "outputId": "7c2c3067-ffc5-4345-a2b2-63fb3cf37235"
      },
      "execution_count": null,
      "outputs": [
        {
          "output_type": "execute_result",
          "data": {
            "text/plain": [
              "' Data'"
            ],
            "application/vnd.google.colaboratory.intrinsic+json": {
              "type": "string"
            }
          },
          "metadata": {},
          "execution_count": 21
        }
      ]
    },
    {
      "cell_type": "markdown",
      "source": [
        "# Finding Substrings:\n",
        "We can use the following 4 methods\n",
        "\n",
        "For forward direction:\n",
        "\n",
        "1) find() \n",
        "\n",
        "2) index()\n",
        "\n",
        " For backward direction:\n",
        " \n",
        "1) rfind()\n",
        "\n",
        "2) rindex()"
      ],
      "metadata": {
        "id": "qIiH0bSTW9XX"
      }
    },
    {
      "cell_type": "markdown",
      "source": [
        "1) find()"
      ],
      "metadata": {
        "id": "i4vYBNQ2YGPP"
      }
    },
    {
      "cell_type": "code",
      "source": [
        "# find(): Returns index of first occurrence of the given substring. If it is not available then we will\n",
        "# get -1.\n",
        "s=\"data\"\n",
        "s.find(\"data\") #0th index\n"
      ],
      "metadata": {
        "colab": {
          "base_uri": "https://localhost:8080/"
        },
        "id": "dTt4fv8oW5-t",
        "outputId": "d1b49592-5b8a-4d22-9a41-da5a065bc590"
      },
      "execution_count": null,
      "outputs": [
        {
          "output_type": "execute_result",
          "data": {
            "text/plain": [
              "0"
            ]
          },
          "metadata": {},
          "execution_count": 22
        }
      ]
    },
    {
      "cell_type": "code",
      "source": [
        "# syntax: s.find(substring,bEgin,end)\n",
        "s.find(\"a\",1,4)"
      ],
      "metadata": {
        "colab": {
          "base_uri": "https://localhost:8080/"
        },
        "id": "MtV_tZGyXo2_",
        "outputId": "229cf473-9f7c-422f-a1a0-54ef2b0610b0"
      },
      "execution_count": null,
      "outputs": [
        {
          "output_type": "execute_result",
          "data": {
            "text/plain": [
              "1"
            ]
          },
          "metadata": {},
          "execution_count": 23
        }
      ]
    },
    {
      "cell_type": "markdown",
      "source": [
        "2)index()\n",
        "\n",
        "index() method is exactly same as find() method except that if the specified substring is\n",
        " not available then we will get ValueError."
      ],
      "metadata": {
        "id": "KOKD5UhxYIuA"
      }
    },
    {
      "cell_type": "code",
      "source": [
        "# we will get a error if the substring is not available\n",
        "s.index('m')"
      ],
      "metadata": {
        "colab": {
          "base_uri": "https://localhost:8080/",
          "height": 203
        },
        "id": "R8C3rm4AYBCF",
        "outputId": "a14b09bc-98c9-4cd3-959b-e38462fefd38"
      },
      "execution_count": null,
      "outputs": [
        {
          "output_type": "error",
          "ename": "ValueError",
          "evalue": "ignored",
          "traceback": [
            "\u001b[0;31m---------------------------------------------------------------------------\u001b[0m",
            "\u001b[0;31mValueError\u001b[0m                                Traceback (most recent call last)",
            "\u001b[0;32m<ipython-input-24-e40d75233bc8>\u001b[0m in \u001b[0;36m<module>\u001b[0;34m()\u001b[0m\n\u001b[0;32m----> 1\u001b[0;31m \u001b[0ms\u001b[0m\u001b[0;34m.\u001b[0m\u001b[0mindex\u001b[0m\u001b[0;34m(\u001b[0m\u001b[0;34m'm'\u001b[0m\u001b[0;34m)\u001b[0m\u001b[0;34m\u001b[0m\u001b[0;34m\u001b[0m\u001b[0m\n\u001b[0m",
            "\u001b[0;31mValueError\u001b[0m: substring not found"
          ]
        }
      ]
    },
    {
      "cell_type": "code",
      "source": [
        "s.index('a')"
      ],
      "metadata": {
        "colab": {
          "base_uri": "https://localhost:8080/"
        },
        "id": "Z9dHJvMAYZG3",
        "outputId": "8a6047ed-df82-4abe-8d4f-5075e08d9197"
      },
      "execution_count": null,
      "outputs": [
        {
          "output_type": "execute_result",
          "data": {
            "text/plain": [
              "1"
            ]
          },
          "metadata": {},
          "execution_count": 25
        }
      ]
    },
    {
      "cell_type": "markdown",
      "source": [
        "  Q) Program to display all Positions of Substring in a given\n",
        "  Main String"
      ],
      "metadata": {
        "id": "H2CWlc3NY25I"
      }
    },
    {
      "cell_type": "code",
      "source": [
        "s=input(\"Entermainstring:\")\n",
        "subs=input(\"Entersubstring:\")\n",
        "flag=False\n",
        "pos=-1\n",
        "n=len(s)\n",
        "while True:\n",
        "  pos=s.find(subs,pos+1,n)\n",
        "  if pos==-1:\n",
        "    break\n",
        "  print(\"Found at position\",pos)\n",
        "  flag=True\n",
        "if flag==False:\n",
        "  print(\"Not Found\")"
      ],
      "metadata": {
        "colab": {
          "base_uri": "https://localhost:8080/"
        },
        "id": "hr6XgsrZYk0y",
        "outputId": "1c3f0980-e325-46af-f7a4-b185c77ea52e"
      },
      "execution_count": null,
      "outputs": [
        {
          "output_type": "stream",
          "name": "stdout",
          "text": [
            "Entermainstring:saeaeaareastfha\n",
            "Entersubstring:a\n",
            "Found at position 1\n",
            "Found at position 3\n",
            "Found at position 5\n",
            "Found at position 6\n",
            "Found at position 9\n",
            "Found at position 14\n"
          ]
        }
      ]
    },
    {
      "cell_type": "markdown",
      "source": [
        "# Count substring in the given String:\n",
        "\n",
        "We can find the number of occurrences of substring present in the given string by using\n",
        "count() method.\n",
        "\n",
        "s.count(substring)-->It will search through out the string.\n",
        "\n",
        "s.count(substring, bEgin, end)-->It will search from bEgin index to end-1 index.\n"
      ],
      "metadata": {
        "id": "xZo0WWcKZdXS"
      }
    },
    {
      "cell_type": "code",
      "source": [
        "s=\"abcabcabcabcadda\"\n",
        "print(s.count('a'))"
      ],
      "metadata": {
        "colab": {
          "base_uri": "https://localhost:8080/"
        },
        "id": "U7aBM_9HZNQp",
        "outputId": "9cb92aa7-9df8-40f0-943e-82c54c3dea0d"
      },
      "execution_count": null,
      "outputs": [
        {
          "output_type": "stream",
          "name": "stdout",
          "text": [
            "6\n"
          ]
        }
      ]
    },
    {
      "cell_type": "markdown",
      "source": [
        "# Replacing a String with another String:\n",
        "\n",
        " s.replace(oldstring, newstring)\n",
        "\n",
        "Inside s, every occurrence of old String will be replaced with new String."
      ],
      "metadata": {
        "id": "akf_gTC3aGSB"
      }
    },
    {
      "cell_type": "code",
      "source": [
        " s = \"Learning Python is very difficult\"\n",
        " s1 = s.replace(\"difficult\",\"easy\")\n",
        " print(s1)"
      ],
      "metadata": {
        "colab": {
          "base_uri": "https://localhost:8080/"
        },
        "id": "O5tuvEdiaROa",
        "outputId": "7061ed16-66e3-4da5-f088-a553fd926680"
      },
      "execution_count": null,
      "outputs": [
        {
          "output_type": "stream",
          "name": "stdout",
          "text": [
            "Learning Python is very easy\n"
          ]
        }
      ]
    },
    {
      "cell_type": "markdown",
      "source": [
        "# Splitting of Strings:\n",
        "\n",
        " We can split the given string according to specified seperator by using split() method.\n",
        "\n",
        " * The split() method returns a list where the text between the specified separator becomes the list items.\n",
        "\n",
        "Syntax:\n",
        "l = s.split(seperator)\n"
      ],
      "metadata": {
        "id": "LovtgoXbaqVg"
      }
    },
    {
      "cell_type": "code",
      "source": [
        "s=\"22-02-2018\"\n",
        "l=s.split('-')\n",
        "for x in l:\n",
        "  print(x)"
      ],
      "metadata": {
        "colab": {
          "base_uri": "https://localhost:8080/"
        },
        "id": "KbbkH6-Sa2fJ",
        "outputId": "1fbbb625-c211-4e02-ec51-b80e7d35ea5e"
      },
      "execution_count": null,
      "outputs": [
        {
          "output_type": "stream",
          "name": "stdout",
          "text": [
            "22\n",
            "02\n",
            "2018\n"
          ]
        }
      ]
    },
    {
      "cell_type": "code",
      "source": [
        "l"
      ],
      "metadata": {
        "colab": {
          "base_uri": "https://localhost:8080/"
        },
        "id": "xOJlj7oaa_1r",
        "outputId": "b96fb327-0991-49ea-a86a-a5501e039510"
      },
      "execution_count": null,
      "outputs": [
        {
          "output_type": "execute_result",
          "data": {
            "text/plain": [
              "['22', '02', '2018']"
            ]
          },
          "metadata": {},
          "execution_count": 34
        }
      ]
    },
    {
      "cell_type": "markdown",
      "source": [
        "#  Joining Of Strings:\n",
        "\n",
        "s = seperator.join(group of strings)"
      ],
      "metadata": {
        "id": "LWomjGZUbGXJ"
      }
    },
    {
      "cell_type": "code",
      "source": [
        "list1= [\"data\",\"science\",\"ai\"]\n",
        "\"-\".join(list1)"
      ],
      "metadata": {
        "colab": {
          "base_uri": "https://localhost:8080/",
          "height": 35
        },
        "id": "6Rphk2ZlbDOQ",
        "outputId": "41ee4279-b2b4-45e7-afba-ccb811f92b9c"
      },
      "execution_count": 21,
      "outputs": [
        {
          "output_type": "execute_result",
          "data": {
            "text/plain": [
              "'data-science-ai'"
            ],
            "application/vnd.google.colaboratory.intrinsic+json": {
              "type": "string"
            }
          },
          "metadata": {},
          "execution_count": 21
        }
      ]
    },
    {
      "cell_type": "markdown",
      "source": [
        "#  Changing the case of a string:\n",
        "\n",
        "upper()-->To convert all characters to upper case.\n",
        "\n",
        "lower()-->To convert all characters to lower case.\n",
        "\n",
        "swapcase() --> Converts all lower case characters to upper case and all upper case\n",
        "characters to lower case\n",
        "\n",
        "title() --> To convert all character to title case. i.e first character in every word should\n",
        "be upper case and all remaining characters should be in lower case.\n",
        "\n",
        "capitalize() --> Only first character will be converted to upper case and all remaining\n",
        "characters can be converted to lower case."
      ],
      "metadata": {
        "id": "-EseZOFEbsrS"
      }
    },
    {
      "cell_type": "code",
      "source": [
        "s='learning Python is very Easy'\n",
        "print(s.upper())\n",
        "print(s.lower())\n",
        "print(s.swapcase())\n",
        "print(s.title())\n",
        "print(s.capitalize())"
      ],
      "metadata": {
        "colab": {
          "base_uri": "https://localhost:8080/"
        },
        "id": "J_Espju9bkOF",
        "outputId": "eb8cae3f-f05d-4c70-f182-9ed8c342decb"
      },
      "execution_count": null,
      "outputs": [
        {
          "output_type": "stream",
          "name": "stdout",
          "text": [
            "LEARNING PYTHON IS VERY EASY\n",
            "learning python is very easy\n",
            "LEARNING pYTHON IS VERY eASY\n",
            "Learning Python Is Very Easy\n",
            "Learning python is very easy\n"
          ]
        }
      ]
    },
    {
      "cell_type": "markdown",
      "source": [
        "# Checking Starting and Ending Part of the String:\n",
        "\n",
        " Python contains the following methods for this purpose.\n",
        "\n",
        "s.startswith(substring)\n",
        "\n",
        " s.endswith(substring)"
      ],
      "metadata": {
        "id": "pZl06Qc6cTiH"
      }
    },
    {
      "cell_type": "code",
      "source": [
        "s='learningPythonisveryeasy'\n",
        "print(s.startswith('learning'))\n",
        "print(s.endswith('learning'))\n",
        "print(s.endswith('easy'))"
      ],
      "metadata": {
        "colab": {
          "base_uri": "https://localhost:8080/"
        },
        "id": "n5RwI_shcH69",
        "outputId": "735e30ec-3476-4a10-a355-32dd66f838e5"
      },
      "execution_count": null,
      "outputs": [
        {
          "output_type": "stream",
          "name": "stdout",
          "text": [
            "True\n",
            "False\n",
            "True\n"
          ]
        }
      ]
    },
    {
      "cell_type": "markdown",
      "source": [
        "#   To Check Type of Characters Present in a String:\n",
        "\n",
        "Python contains the following methods for this purpose.\n",
        "\n",
        "isalnum(): Returns True if all characters are alphanumeric( a to z , A to Z ,0 to9 ).\n",
        " \n",
        "isalpha(): Returns True if all characters are only alphabet symbols(a to z,A to Z)\n",
        "\n",
        "isdigit(): Returns True if all characters are digits only( 0 to 9)\n",
        "\n",
        "islower(): Returns True if all characters are lower case alphabet symbols\n",
        " \n",
        "isupper(): Returns True if all characters are upper case aplhabet symbols\n",
        "\n",
        "istitle(): Returns True if string is in title case\n",
        "\n",
        "isspace(): Returns True if string contains only spaces"
      ],
      "metadata": {
        "id": "4XEfkoiWckuB"
      }
    },
    {
      "cell_type": "code",
      "source": [
        "print('Datascience786'.isalnum()) # True"
      ],
      "metadata": {
        "colab": {
          "base_uri": "https://localhost:8080/"
        },
        "id": "nXH9KmFicgrs",
        "outputId": "2b24deb6-aad4-42bc-fc2e-fcccd5fc3a2c"
      },
      "execution_count": null,
      "outputs": [
        {
          "output_type": "stream",
          "name": "stdout",
          "text": [
            "True\n"
          ]
        }
      ]
    },
    {
      "cell_type": "code",
      "source": [
        "print('Abc'.islower()) #False"
      ],
      "metadata": {
        "colab": {
          "base_uri": "https://localhost:8080/"
        },
        "id": "bfiAo7zCc69b",
        "outputId": "b4590e04-6d2f-49f1-aaf9-01e6614a8300"
      },
      "execution_count": null,
      "outputs": [
        {
          "output_type": "stream",
          "name": "stdout",
          "text": [
            "False\n"
          ]
        }
      ]
    },
    {
      "cell_type": "code",
      "source": [
        "print('Learning Python Is Easy'.istitle()) "
      ],
      "metadata": {
        "colab": {
          "base_uri": "https://localhost:8080/"
        },
        "id": "GvJ97IICc_jV",
        "outputId": "5630266c-e6ce-4c5f-e303-db79ac354615"
      },
      "execution_count": null,
      "outputs": [
        {
          "output_type": "stream",
          "name": "stdout",
          "text": [
            "True\n"
          ]
        }
      ]
    },
    {
      "cell_type": "markdown",
      "source": [
        "#  Formatting the Strings:\n",
        "  We can format the strings with variable values by using replacement operator {} and\n",
        " format() method."
      ],
      "metadata": {
        "id": "ddeaIft_dRpE"
      }
    },
    {
      "cell_type": "code",
      "source": [
        "name='rajesh'\n",
        "salary=10000\n",
        "age=31\n",
        "print(\"{}'s salary is {} and his age is{}\".format(name,salary,age))\n",
        "print(\"{0}'s salary is {1} and his age is {2}\".format(name,salary,age))\n",
        "print(\"{x}'s salary is {y} and his age is {z}\".format(z=age,y=salary,x=name))"
      ],
      "metadata": {
        "colab": {
          "base_uri": "https://localhost:8080/"
        },
        "id": "gNN3BEdwdEXv",
        "outputId": "b15bb00c-08f1-4b27-d7aa-2b45381b0a51"
      },
      "execution_count": null,
      "outputs": [
        {
          "output_type": "stream",
          "name": "stdout",
          "text": [
            "rajesh's salary is 10000 and his age is31\n",
            "rajesh's salary is 10000 and his age is 31\n",
            "rajesh's salary is 10000 and his age is 31\n"
          ]
        }
      ]
    },
    {
      "cell_type": "markdown",
      "source": [
        "  Q1) Write a Program to Reverse the given String"
      ],
      "metadata": {
        "id": "MWmKU6sLd0zJ"
      }
    },
    {
      "cell_type": "code",
      "source": [
        "s=input(\"EnterSomeString:\")\n",
        "print(s[::-1])"
      ],
      "metadata": {
        "colab": {
          "base_uri": "https://localhost:8080/"
        },
        "id": "REjHkC7Ud47x",
        "outputId": "861f87f9-8258-4b75-9682-d94e32e0ec40"
      },
      "execution_count": null,
      "outputs": [
        {
          "output_type": "stream",
          "name": "stdout",
          "text": [
            "EnterSomeString:rajesh\n",
            "hsejar\n"
          ]
        }
      ]
    },
    {
      "cell_type": "code",
      "source": [
        "s= 'rajesh'\n",
        "''.join(reversed(s))"
      ],
      "metadata": {
        "colab": {
          "base_uri": "https://localhost:8080/",
          "height": 35
        },
        "id": "02gX4Zjhd_fi",
        "outputId": "21dc8fec-21db-4767-accf-207d3f15b4ba"
      },
      "execution_count": null,
      "outputs": [
        {
          "output_type": "execute_result",
          "data": {
            "text/plain": [
              "'hsejar'"
            ],
            "application/vnd.google.colaboratory.intrinsic+json": {
              "type": "string"
            }
          },
          "metadata": {},
          "execution_count": 46
        }
      ]
    },
    {
      "cell_type": "markdown",
      "source": [
        "Q2) Program to Reverse Order of Words\n",
        "\n",
        "Input: Learning Python is very Easy\n",
        "\n",
        " Output: Easy Very is Python Learning"
      ],
      "metadata": {
        "id": "DNUdFXYueS_S"
      }
    },
    {
      "cell_type": "code",
      "source": [
        "s='Learning Python is very Easy'\n",
        "l=s.split()\n",
        "l1=[]\n",
        "i=len(l)-1\n",
        "while i>=0:\n",
        "  l1.append(l[i])\n",
        "  i=i-1\n",
        "output=' '.join(l1)\n",
        "print(output)"
      ],
      "metadata": {
        "colab": {
          "base_uri": "https://localhost:8080/"
        },
        "id": "WB_PIZbYeMnH",
        "outputId": "4195a859-d1ef-4575-8a72-e6a70e122a9f"
      },
      "execution_count": null,
      "outputs": [
        {
          "output_type": "stream",
          "name": "stdout",
          "text": [
            "Easy very is Python Learning\n"
          ]
        }
      ]
    },
    {
      "cell_type": "markdown",
      "source": [
        "Q3) Write a Program to Remove Duplicate Characters from\n",
        "  the given Input String?\n",
        "\n",
        "  Input: ABCDABBCDABBBCCCDDEEEF\n",
        "\n",
        " Output: ABCDEF"
      ],
      "metadata": {
        "id": "vrdDnTxIf_cW"
      }
    },
    {
      "cell_type": "code",
      "source": [
        "s=input(\"EnterSomeString:\")\n",
        "l=[]\n",
        "for x in s:\n",
        "  if x not in l:\n",
        "     l.append(x)\n",
        "output=''.join(l)\n",
        "print(output)"
      ],
      "metadata": {
        "colab": {
          "base_uri": "https://localhost:8080/"
        },
        "id": "CwcGA_teeqdf",
        "outputId": "98c2a2a2-5cb8-41a5-ec3c-0f6404de10f4"
      },
      "execution_count": null,
      "outputs": [
        {
          "output_type": "stream",
          "name": "stdout",
          "text": [
            "EnterSomeString:abcdabbcdabbbdddeeef\n",
            "abcdef\n"
          ]
        }
      ]
    },
    {
      "cell_type": "markdown",
      "source": [
        "Q4) Write a Program to find the Number of Occurrences of\n",
        "each Character present in the given String?\n",
        "\n",
        "Input: ABCABCABBCDE\n",
        "\n",
        "Output: A-3,B-4,C-3,D-1,E-1"
      ],
      "metadata": {
        "id": "f_z82qj7gaKq"
      }
    },
    {
      "cell_type": "code",
      "source": [
        "s=input(\"Enter Some String:\")\n",
        "d={}\n",
        "for x in s:\n",
        "  if x in d.keys():\n",
        "     d[x]=d[x]+1\n",
        "  else:\n",
        "     d[x]=1\n",
        "for k,v in d.items():\n",
        "   print(\"{} = {} Times\".format(k,v))"
      ],
      "metadata": {
        "colab": {
          "base_uri": "https://localhost:8080/"
        },
        "id": "sVkAtNRwgQ_b",
        "outputId": "e89ec7ca-b38f-4c47-bb1b-7d26b7da5723"
      },
      "execution_count": null,
      "outputs": [
        {
          "output_type": "stream",
          "name": "stdout",
          "text": [
            "Enter Some String:aaabbbccc\n",
            "a = 3 Times\n",
            "b = 3 Times\n",
            "c = 3 Times\n"
          ]
        }
      ]
    },
    {
      "cell_type": "code",
      "source": [
        "s=\"aaasssddd\"\n",
        "d={}\n",
        "for x in s:\n",
        "  if x in d.keys():\n",
        "     d[x]=d[x]+1\n",
        "  else:\n",
        "     d[x]=1"
      ],
      "metadata": {
        "id": "j6HOTI2Fg6vj"
      },
      "execution_count": null,
      "outputs": []
    },
    {
      "cell_type": "code",
      "source": [
        "d"
      ],
      "metadata": {
        "colab": {
          "base_uri": "https://localhost:8080/"
        },
        "id": "6_K1WMOMiFZ6",
        "outputId": "e741cf2b-d11c-40bc-b9e3-e20689590852"
      },
      "execution_count": null,
      "outputs": [
        {
          "output_type": "execute_result",
          "data": {
            "text/plain": [
              "{'a': 3, 'd': 3, 's': 3}"
            ]
          },
          "metadata": {},
          "execution_count": 55
        }
      ]
    },
    {
      "cell_type": "code",
      "source": [],
      "metadata": {
        "id": "pnshfeFWiGWL"
      },
      "execution_count": null,
      "outputs": []
    }
  ]
}